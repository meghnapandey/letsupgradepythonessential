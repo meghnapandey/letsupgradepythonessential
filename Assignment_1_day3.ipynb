{
 "cells": [
  {
   "cell_type": "code",
   "execution_count": 2,
   "metadata": {},
   "outputs": [
    {
     "name": "stdout",
     "output_type": "stream",
     "text": [
      "4500\n",
      "Bring down to 1000\n"
     ]
    }
   ],
   "source": [
    "alt = input()\n",
    "alt = int(alt)\n",
    "\n",
    "if alt == 1000 :\n",
    "    print(\"Safe to Land\")\n",
    "elif alt > 1000 and alt < 5000 :\n",
    "    print(\"Bring down to 1000\")\n",
    "elif alt > 5000:\n",
    "    print(\"Turn around \")\n",
    "else :\n",
    "    print(\"try again later\")"
   ]
  },
  {
   "cell_type": "code",
   "execution_count": null,
   "metadata": {},
   "outputs": [],
   "source": []
  }
 ],
 "metadata": {
  "kernelspec": {
   "display_name": "Python 3",
   "language": "python",
   "name": "python3"
  },
  "language_info": {
   "codemirror_mode": {
    "name": "ipython",
    "version": 3
   },
   "file_extension": ".py",
   "mimetype": "text/x-python",
   "name": "python",
   "nbconvert_exporter": "python",
   "pygments_lexer": "ipython3",
   "version": "3.8.3"
  }
 },
 "nbformat": 4,
 "nbformat_minor": 4
}
